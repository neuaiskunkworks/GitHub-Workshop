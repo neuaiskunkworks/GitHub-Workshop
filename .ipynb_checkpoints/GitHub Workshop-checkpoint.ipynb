{
 "cells": [
  {
   "cell_type": "markdown",
   "metadata": {
    "slideshow": {
     "slide_type": "slide"
    }
   },
   "source": [
    "# GitHub Workshop\n",
    "\n",
    "<img src=\"./Git-Largest.jpg\">"
   ]
  },
  {
   "cell_type": "markdown",
   "metadata": {
    "slideshow": {
     "slide_type": "slide"
    }
   },
   "source": [
    "### About Version Control\n",
    "\n",
    "\n",
    "What is “version control”, and why should you care? Version control is a system that records\n",
    "changes to a file or set of files over time so that you can recall specific versions later. For the\n",
    "examples in this book, you will use software source code as the files being version controlled,\n",
    "though in reality you can do this with nearly any type of file on a computer.\n"
   ]
  },
  {
   "cell_type": "markdown",
   "metadata": {
    "slideshow": {
     "slide_type": "subslide"
    }
   },
   "source": [
    "<img src=\"./image1.PNG\" width=\"500\">"
   ]
  },
  {
   "cell_type": "markdown",
   "metadata": {
    "slideshow": {
     "slide_type": "subslide"
    }
   },
   "source": [
    "<img src=\"./image2.PNG\" width=\"600\">"
   ]
  },
  {
   "cell_type": "markdown",
   "metadata": {
    "slideshow": {
     "slide_type": "slide"
    }
   },
   "source": [
    "### Important difference between Git and other VCS is \n",
    "\n",
    "Git stores and thinks about\n",
    "information in a very different way, and understanding these differences will help you avoid\n",
    "becoming confused while using it.\n",
    "\n",
    "\n",
    "#### Snapshots, Not Differences"
   ]
  },
  {
   "cell_type": "markdown",
   "metadata": {
    "slideshow": {
     "slide_type": "slide"
    }
   },
   "source": [
    "### The Three States\n",
    "\n",
    "`committed`\n",
    "`modified` and \n",
    "`staged`\n",
    "\n",
    "\n",
    "* Committed means that the data is safely stored in your local database.\n",
    "* Modified means that you have changed the file but have not committed it to your database yet.\n",
    "* Staged means that you have marked a modified file in its current version to go into your next commit *_snapshot_*."
   ]
  },
  {
   "cell_type": "markdown",
   "metadata": {
    "slideshow": {
     "slide_type": "subslide"
    }
   },
   "source": [
    "<img src=\"./image3.PNG\" width=\"700\">"
   ]
  },
  {
   "cell_type": "markdown",
   "metadata": {
    "slideshow": {
     "slide_type": "slide"
    }
   },
   "source": [
    "## Installing Git(GitBash)"
   ]
  },
  {
   "cell_type": "markdown",
   "metadata": {
    "slideshow": {
     "slide_type": "slide"
    }
   },
   "source": [
    "## Commands"
   ]
  },
  {
   "cell_type": "markdown",
   "metadata": {
    "slideshow": {
     "slide_type": "subslide"
    }
   },
   "source": [
    "Importance of `git config`\n",
    "\n",
    "Main `config` comands :\n",
    "\n",
    "* $ `git config --global user.name \"John Doe\"`\n",
    " \n",
    "* $ `git config --global user.email johndoe@example.com`\n",
    " \n",
    "*You need to do this only once*"
   ]
  },
  {
   "cell_type": "markdown",
   "metadata": {
    "slideshow": {
     "slide_type": "slide"
    }
   },
   "source": [
    "to change your editor\n",
    "\n",
    "$ `git config --global core.editor \"'C:/Program Files/Notepad++/notepad++.exe' -multiInst -nosession\"`"
   ]
  },
  {
   "cell_type": "markdown",
   "metadata": {
    "slideshow": {
     "slide_type": "slide"
    }
   },
   "source": [
    "## Git Basics\n",
    "\n",
    "\n",
    "1. Two ways of getting Git repository:\n",
    "    * Create/Use one local repository as a Git repository\n",
    "    * Clone one that is already created\n",
    "\n"
   ]
  },
  {
   "cell_type": "markdown",
   "metadata": {
    "slideshow": {
     "slide_type": "subslide"
    }
   },
   "source": [
    "To create a local repository\n",
    "\n",
    "* $ `cd /c/user/my_project` \n",
    "\n",
    "* $  `git init`"
   ]
  },
  {
   "cell_type": "markdown",
   "metadata": {
    "slideshow": {
     "slide_type": "subslide"
    }
   },
   "source": [
    "To clone a repository\n",
    "\n",
    "* $ `git clone <link>`\n",
    "\n",
    "link to the repository ending with .git. ex: https://github.com/prabhuSub/Text-based-Game-using-Python.git\n",
    "\n",
    "This creates a directory and alos initiates a .git in the folder"
   ]
  },
  {
   "cell_type": "markdown",
   "metadata": {
    "slideshow": {
     "slide_type": "subslide"
    }
   },
   "source": [
    "#### Recording changes to your repository\n",
    "\n",
    "<img src=\"./image4.PNG\" width=\"900\">"
   ]
  },
  {
   "cell_type": "markdown",
   "metadata": {
    "slideshow": {
     "slide_type": "subslide"
    }
   },
   "source": [
    "Once my Git repository is setup, I usually go with the first command, that is:\n",
    "\n",
    "$ `git status`\n",
    "\n",
    "It gives you an output similar to the below if you have nothing to commit:\n",
    "\n",
    "$ `git status`\n",
    "\n",
    "`On branch master\n",
    "Your branch is up-to-date with 'origin/master'.\n",
    "nothing to commit, working directory clean`"
   ]
  }
 ],
 "metadata": {
  "celltoolbar": "Slideshow",
  "kernelspec": {
   "display_name": "Python 3",
   "language": "python",
   "name": "python3"
  },
  "language_info": {
   "codemirror_mode": {
    "name": "ipython",
    "version": 3
   },
   "file_extension": ".py",
   "mimetype": "text/x-python",
   "name": "python",
   "nbconvert_exporter": "python",
   "pygments_lexer": "ipython3",
   "version": "3.6.8"
  }
 },
 "nbformat": 4,
 "nbformat_minor": 2
}
