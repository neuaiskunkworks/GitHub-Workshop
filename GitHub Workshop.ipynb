{
 "cells": [
  {
   "cell_type": "markdown",
   "metadata": {
    "slideshow": {
     "slide_type": "slide"
    }
   },
   "source": [
    "# GitHub Workshop\n",
    "\n",
    "<img src=\"./Images/Git-Largest.jpg\">"
   ]
  },
  {
   "cell_type": "markdown",
   "metadata": {
    "slideshow": {
     "slide_type": "slide"
    }
   },
   "source": [
    "### About Version Control System(VCS)\n",
    "\n",
    "\n",
    "What is “version control”, and why should you care?\n",
    "\n",
    "Version control is a system that records changes to a file or set of files over time so that you can recall specific versions later."
   ]
  },
  {
   "cell_type": "markdown",
   "metadata": {
    "slideshow": {
     "slide_type": "subslide"
    }
   },
   "source": [
    "#### Centralised Version Control Systems\n",
    "\n",
    "\n",
    "<img src=\"./image1.PNG\" width=\"500\">"
   ]
  },
  {
   "cell_type": "markdown",
   "metadata": {
    "slideshow": {
     "slide_type": "subslide"
    }
   },
   "source": [
    "#### Distributed Version Control Systems \n",
    "\n",
    "\n",
    "<img src=\"./image2.PNG\" width=\"450\" align=center>"
   ]
  },
  {
   "cell_type": "markdown",
   "metadata": {
    "slideshow": {
     "slide_type": "slide"
    }
   },
   "source": [
    "### Important difference between Git and other VCS\n",
    "\n",
    "The major difference between Git and any other VCS (Subversion and friends included) is the way Git thinks about its data.\n",
    "\n",
    "Git consideres the files as\n",
    "#### Snapshots, Not Differences"
   ]
  },
  {
   "cell_type": "markdown",
   "metadata": {
    "slideshow": {
     "slide_type": "slide"
    }
   },
   "source": [
    "### The Three States\n",
    "\n",
    "`committed`\n",
    "`modified` and \n",
    "`staged`\n",
    "\n",
    "\n",
    "* Committed means that the data is safely stored in your local database.\n",
    "* Modified means that you have changed the file but have not committed it to your database yet.\n",
    "* Staged means that you have marked a modified file in its current version to go into your next commit *_snapshot_*."
   ]
  },
  {
   "cell_type": "markdown",
   "metadata": {
    "slideshow": {
     "slide_type": "subslide"
    }
   },
   "source": [
    "### The Three States\n",
    "\n",
    "<img src=\"./image3.PNG\" width=\"700\" align=\"center\">"
   ]
  },
  {
   "cell_type": "markdown",
   "metadata": {
    "slideshow": {
     "slide_type": "slide"
    }
   },
   "source": [
    "## Installing Git(GitBash)"
   ]
  },
  {
   "cell_type": "markdown",
   "metadata": {
    "slideshow": {
     "slide_type": "slide"
    }
   },
   "source": [
    "## Commands"
   ]
  },
  {
   "cell_type": "markdown",
   "metadata": {
    "slideshow": {
     "slide_type": "subslide"
    }
   },
   "source": [
    "Importance of `git config`\n",
    "\n",
    "Main `config` comands :\n",
    "\n",
    "--------------------------------------------------\n",
    "\n",
    "\n",
    "* $ `git config --global user.name \"John Doe\"`\n",
    "\n",
    " \n",
    "* $ `git config --global user.email johndoe@example.com`\n",
    "\n",
    "\n",
    "---------------------------------------------------\n",
    " \n",
    "*You need to do this only once*"
   ]
  },
  {
   "cell_type": "markdown",
   "metadata": {
    "slideshow": {
     "slide_type": "slide"
    }
   },
   "source": [
    "Few examples of `config` - to change your editor\n",
    "\n",
    "--------------------------------------------\n",
    "\n",
    "\n",
    "* $ `git config --global core.editor \"'C:/Program Files/Notepad++/notepad++.exe' -multiInst -nosession\"`\n",
    "\n"
   ]
  },
  {
   "cell_type": "markdown",
   "metadata": {
    "slideshow": {
     "slide_type": "slide"
    }
   },
   "source": [
    "## Git Basics\n",
    "\n",
    "\n",
    "-----------------------------------------------\n",
    "\n",
    "Two ways of getting Git repository:\n",
    "    * Create/Use one local repository as a Git repository\n",
    "    * Clone one that is already created\n",
    "\n"
   ]
  },
  {
   "cell_type": "markdown",
   "metadata": {
    "slideshow": {
     "slide_type": "subslide"
    }
   },
   "source": [
    "To create a local repository\n",
    "\n",
    "---------------------------------------------\n",
    "\n",
    "* $ `cd /c/user/my_project`\n",
    "\n",
    "\n",
    "* $ `git init`\n",
    "\n"
   ]
  },
  {
   "cell_type": "markdown",
   "metadata": {
    "slideshow": {
     "slide_type": "subslide"
    }
   },
   "source": [
    "To clone a repository\n",
    "\n",
    "---------------------------------------------\n",
    "\n",
    "* $ `git clone <link>`\n",
    "\n",
    "---------------------------------------------\n",
    "\n",
    "Link to the repository ending with .git.\n",
    "\n",
    "```\n",
    "ex: <link> - https://github.com/prabhuSub/Text-based-Game-using-Python.git\n",
    "\n",
    "```\n",
    "This creates a directory and also initiates a .git in the folder"
   ]
  },
  {
   "cell_type": "markdown",
   "metadata": {
    "slideshow": {
     "slide_type": "subslide"
    }
   },
   "source": [
    "### Recording changes to your repository\n",
    "\n",
    "---------------------------------------\n",
    "\n",
    "<img src=\"./image4.PNG\" width=\"700\">"
   ]
  },
  {
   "cell_type": "markdown",
   "metadata": {
    "slideshow": {
     "slide_type": "slide"
    }
   },
   "source": [
    "Once my Git repository is setup, I usually go with the first command, that is:\n",
    "\n",
    "-----------------------------------------\n",
    "\n",
    "* $ `git status`\n",
    "\n",
    "----------------------------\n",
    "\n",
    "It gives you an output similar to the below if you have nothing to commit:\n",
    "\n",
    "------------------------------\n",
    "\n",
    "\n",
    "* $ `git status`\n",
    "\n",
    "On branch master\n",
    "Your branch is up-to-date with 'origin/master'.\n",
    "nothing to commit, working directory clean\n"
   ]
  },
  {
   "cell_type": "markdown",
   "metadata": {
    "slideshow": {
     "slide_type": "subslide"
    }
   },
   "source": [
    "* $ `git fetch`\n",
    "\n",
    "`git fetch` command only downloads the data to your local repository — it doesn’t automatically merge it with any of your work or modify what you’re currently working on. You have to merge it manually into your work when\n",
    "you’re ready.\n",
    "\n",
    "-------------------------------------------------\n",
    "* $ `git pull` \n",
    "\n",
    "`git pull` automatically fetch and then merge that\n",
    "remote branch into your current branch"
   ]
  },
  {
   "cell_type": "markdown",
   "metadata": {
    "slideshow": {
     "slide_type": "subslide"
    }
   },
   "source": [
    "* $ `git push <remote> <branch>`\n",
    "    \n",
    "    If you want to push your master branch to your origin server (again, cloning generally sets up both of those names for you automatically), then you can run this to push any commits you’ve done back up to the server"
   ]
  },
  {
   "cell_type": "markdown",
   "metadata": {
    "slideshow": {
     "slide_type": "subslide"
    }
   },
   "source": [
    "* $`git tag`\n",
    "\n",
    "    Creating tags help you name the versions and later see the version hostory and their logs respectively. \n",
    "    \n",
    "    Ex:\n",
    "    \n",
    "    <img src=\"./code1.PNG\" width=\"350\">\n",
    "    \n",
    "    "
   ]
  },
  {
   "cell_type": "markdown",
   "metadata": {
    "slideshow": {
     "slide_type": "slide"
    }
   },
   "source": [
    "## Git Branching\n",
    "\n",
    "Nearly every VCS has some form of branching support. Branching means you diverge from the main line of development and continue to do work without messing with that main line."
   ]
  }
 ],
 "metadata": {
  "celltoolbar": "Slideshow",
  "kernelspec": {
   "display_name": "Python 3",
   "language": "python",
   "name": "python3"
  },
  "language_info": {
   "codemirror_mode": {
    "name": "ipython",
    "version": 3
   },
   "file_extension": ".py",
   "mimetype": "text/x-python",
   "name": "python",
   "nbconvert_exporter": "python",
   "pygments_lexer": "ipython3",
   "version": "3.6.8"
  }
 },
 "nbformat": 4,
 "nbformat_minor": 2
}
